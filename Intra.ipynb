{
  "cells": [
    {
      "cell_type": "code",
      "execution_count": null,
      "metadata": {
        "id": "BupmVd84-WHx"
      },
      "outputs": [],
      "source": [
        "!pip install -q apache_beam[gcp]\n",
        "\n",
        "!pip install -q stop_words\n",
        "\n",
        "!wget -q \"https://github.com/Internite/Intra/raw/notebook/Helper.py\"\n",
        "\n",
        "!wget -q \"https://github.com/Internite/Intra/raw/notebook/Heline.py\"\n",
        "\n",
        "!wget -q \"https://github.com/Internite/Hantu/raw/notebook/Histplot.py\""
      ]
    },
    {
      "cell_type": "code",
      "execution_count": null,
      "metadata": {
        "id": "klSZwUewj9gB"
      },
      "outputs": [],
      "source": [
        "import tensorflow as tf\n",
        "\n",
        "import tensorflow_datasets as tfds\n",
        "\n",
        "from Helper import stopper\n",
        "\n",
        "tfds.disable_progress_bar()"
      ]
    },
    {
      "cell_type": "code",
      "execution_count": null,
      "metadata": {
        "id": "k8myflJAkq6C"
      },
      "outputs": [],
      "source": [
        "data = \"imdb_reviews\"\n",
        "\n",
        "(train, testi), info = tfds.load(data, split=[\"train\", \"test\"])"
      ]
    },
    {
      "cell_type": "code",
      "execution_count": null,
      "metadata": {
        "colab": {
          "base_uri": "https://localhost:8080/"
        },
        "id": "yBONimT_ldrs",
        "outputId": "8f0ace16-3a35-4fee-96af-8efa1d0f4a37"
      },
      "outputs": [
        {
          "data": {
            "text/plain": [
              "25000"
            ]
          },
          "execution_count": 3,
          "metadata": {},
          "output_type": "execute_result"
        }
      ],
      "source": [
        "info.splits[\"train\"].num_examples, info.splits[\"test\"].num_examples"
      ]
    },
    {
      "cell_type": "code",
      "execution_count": null,
      "metadata": {
        "id": "Ikw2JtNOmq-J"
      },
      "outputs": [],
      "source": [
        "from tensorflow.keras import layers, Model\n",
        "\n",
        "x = layers.Embedding()\n",
        "x = layers.Bidirectional(layers.LSTM())\n",
        "x = layers.GlobalAveragePooling1D()\n",
        "x = layers.Dense(10, activation=\"relu\")\n",
        "output = layers.Dense(1, activation=\"sigmoid\")\n",
        "\n",
        "model = Model(outputs=output)"
      ]
    },
    {
      "cell_type": "code",
      "execution_count": null,
      "metadata": {
        "id": "_56iZGzPmamq"
      },
      "outputs": [],
      "source": [
        "metrics = \"binary_accuracy\"; loss = \"binary_crossentropy\"\n",
        "\n",
        "model.compile(optimizer=\"adam\", loss=loss, metrics=[metrics])\n",
        "\n",
        "hist = model.fit(train, validation_data=testi)"
      ]
    },
    {
      "cell_type": "code",
      "execution_count": null,
      "metadata": {},
      "outputs": [],
      "source": [
        "model.save(\"/tmp/model\")"
      ]
    },
    {
      "cell_type": "code",
      "execution_count": null,
      "metadata": {
        "id": "P8sHDixrXsoY"
      },
      "outputs": [],
      "source": [
        "from Histplot import Histplot\n",
        "\n",
        "histplot = Histplot(hist)\n",
        "\n",
        "histplot.Trainplot()"
      ]
    },
    {
      "cell_type": "code",
      "execution_count": null,
      "metadata": {
        "id": "-gD4qufWXwmB"
      },
      "outputs": [],
      "source": [
        "histplot.Testiplot()"
      ]
    },
    {
      "cell_type": "code",
      "execution_count": null,
      "metadata": {
        "id": "_P5lwlNxX05r"
      },
      "outputs": [],
      "source": [
        "!pip install -q tensorflowjs"
      ]
    },
    {
      "cell_type": "code",
      "execution_count": null,
      "metadata": {
        "id": "YOJZcjMnnImH"
      },
      "outputs": [],
      "source": [
        "import apache_beam as B\n",
        "\n",
        "from apache_beam.ml.inference.base import RunInference\n",
        "from apache_beam.ml.inference.base import KeyedModelHandler\n",
        "from apache_beam.ml.inference.tensorflow_inference import TFModelHandlerTensor\n",
        "from apache_beam.options.pipeline_options import PipelineOptions\n",
        "\n",
        "model_handler = TFModelHandlerTensor(\"/tmp/model\")\n",
        "\n",
        "from Helper import Modeli"
      ]
    },
    {
      "cell_type": "code",
      "execution_count": null,
      "metadata": {},
      "outputs": [],
      "source": [
        "trainer = [train[10]]\n",
        "\n",
        "with B.Pipeline() as pipeline:\n",
        "    runner = (\n",
        "        pipeline\n",
        "        | \"Create\" >> B.Create(trainer)\n",
        "        | \"Modeler\" >> RunInference(model_handler)\n",
        "        | \"Perform\" >> B.ParDo(Modeli())\n",
        "        | \"Final\" >> B.Map(print)\n",
        "    )"
      ]
    }
  ],
  "metadata": {
    "colab": {
      "authorship_tag": "ABX9TyP0xjOF14YoUc4ImVG/U6Fl",
      "provenance": []
    },
    "kernelspec": {
      "display_name": "Python 3",
      "name": "python3"
    },
    "language_info": {
      "name": "python"
    }
  },
  "nbformat": 4,
  "nbformat_minor": 0
}
