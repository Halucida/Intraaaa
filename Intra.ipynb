{
  "cells": [
    {
      "cell_type": "code",
      "execution_count": null,
      "metadata": {
        "id": "BupmVd84-WHx"
      },
      "outputs": [],
      "source": [
        "!pip install -q apache_beam[gcp]\n",
        "\n",
        "!pip install -q stop_words\n",
        "\n",
        "!wget -q \"https://github.com/Internite/Intra/raw/notebook/Helper.py\"\n",
        "\n",
        "!wget -q \"https://github.com/Internite/Intra/raw/notebook/Heline.py\"\n",
        "\n",
        "!wget -q \"https://github.com/Internite/Hantu/raw/notebook/Histplot.py\""
      ]
    },
    {
      "cell_type": "code",
      "execution_count": 2,
      "metadata": {
        "id": "klSZwUewj9gB"
      },
      "outputs": [],
      "source": [
        "import tensorflow as tf\n",
        "\n",
        "import tensorflow_datasets as tfds\n",
        "\n",
        "from Helper import stopper\n",
        "\n",
        "tfds.disable_progress_bar()"
      ]
    },
    {
      "cell_type": "code",
      "execution_count": null,
      "metadata": {
        "id": "k8myflJAkq6C"
      },
      "outputs": [],
      "source": [
        "data = \"imdb_reviews\"; true = True\n",
        "\n",
        "(train, testi), info = tfds.load(data, split=[\"train\", \"test\"], as_supervised=true, with_info=true)"
      ]
    },
    {
      "cell_type": "code",
      "execution_count": 4,
      "metadata": {
        "colab": {
          "base_uri": "https://localhost:8080/"
        },
        "id": "yBONimT_ldrs",
        "outputId": "18d4d122-b342-4106-aac1-cbf2793b7220"
      },
      "outputs": [
        {
          "output_type": "execute_result",
          "data": {
            "text/plain": [
              "(25000, 25000)"
            ]
          },
          "metadata": {},
          "execution_count": 4
        }
      ],
      "source": [
        "info.splits[\"train\"].num_examples, info.splits[\"test\"].num_examples"
      ]
    },
    {
      "cell_type": "code",
      "source": [
        "train_input = []\n",
        "train_label = []\n",
        "\n",
        "testi_input = []\n",
        "testi_label = []\n",
        "\n",
        "for data, label in train:\n",
        "  train_input.append(stopper(data.numpy().decode(\"utf8\")))\n",
        "  train_label.append(label.numpy())\n",
        "\n",
        "for data, label in testi:\n",
        "  testi_input.append(stopper(data.numpy().decode(\"utf8\")))\n",
        "  testi_label.append(label.numpy())"
      ],
      "metadata": {
        "id": "5TKqrOUKdGRx"
      },
      "execution_count": 5,
      "outputs": []
    },
    {
      "cell_type": "code",
      "source": [
        "len(train_input), len(train_label)"
      ],
      "metadata": {
        "id": "iOFaFg-Ed-JQ",
        "outputId": "6f724153-613e-4259-c46e-fd96dd93e0c3",
        "colab": {
          "base_uri": "https://localhost:8080/"
        }
      },
      "execution_count": 6,
      "outputs": [
        {
          "output_type": "execute_result",
          "data": {
            "text/plain": [
              "(25000, 25000)"
            ]
          },
          "metadata": {},
          "execution_count": 6
        }
      ]
    },
    {
      "cell_type": "code",
      "source": [
        "len(testi_input), len(testi_label)"
      ],
      "metadata": {
        "id": "_Xoo_RGweHyt",
        "outputId": "760031ca-e2be-4829-e172-7c25b20a3e53",
        "colab": {
          "base_uri": "https://localhost:8080/"
        }
      },
      "execution_count": 7,
      "outputs": [
        {
          "output_type": "execute_result",
          "data": {
            "text/plain": [
              "(25000, 25000)"
            ]
          },
          "metadata": {},
          "execution_count": 7
        }
      ]
    },
    {
      "cell_type": "code",
      "execution_count": null,
      "metadata": {
        "id": "Ikw2JtNOmq-J"
      },
      "outputs": [],
      "source": [
        "from tensorflow.keras import layers, Model\n",
        "\n",
        "x = layers.Embedding()\n",
        "x = layers.Bidirectional(layers.LSTM(64))\n",
        "x = layers.GlobalAveragePooling1D()\n",
        "x = layers.Dense(10, activation=\"relu\")\n",
        "output = layers.Dense(1, activation=\"sigmoid\")\n",
        "\n",
        "model = Model(outputs=output)"
      ]
    },
    {
      "cell_type": "code",
      "execution_count": null,
      "metadata": {
        "id": "_56iZGzPmamq"
      },
      "outputs": [],
      "source": [
        "metrics = \"binary_accuracy\"; loss = \"binary_crossentropy\"\n",
        "\n",
        "model.compile(optimizer=\"adam\", loss=loss, metrics=[metrics])\n",
        "\n",
        "hist = model.fit(train, validation_data=testi)"
      ]
    },
    {
      "cell_type": "code",
      "execution_count": null,
      "metadata": {
        "id": "AJQ1jPf0cVtY"
      },
      "outputs": [],
      "source": [
        "model.save(\"/tmp/model\")"
      ]
    },
    {
      "cell_type": "code",
      "execution_count": null,
      "metadata": {
        "id": "P8sHDixrXsoY"
      },
      "outputs": [],
      "source": [
        "from Histplot import Histplot\n",
        "\n",
        "histplot = Histplot(hist)\n",
        "\n",
        "histplot.Trainplot()"
      ]
    },
    {
      "cell_type": "code",
      "execution_count": null,
      "metadata": {
        "id": "-gD4qufWXwmB"
      },
      "outputs": [],
      "source": [
        "histplot.Testiplot()"
      ]
    },
    {
      "cell_type": "code",
      "execution_count": null,
      "metadata": {
        "id": "_P5lwlNxX05r"
      },
      "outputs": [],
      "source": [
        "!pip install -q tensorflowjs"
      ]
    },
    {
      "cell_type": "code",
      "execution_count": null,
      "metadata": {
        "id": "YOJZcjMnnImH"
      },
      "outputs": [],
      "source": [
        "import apache_beam as B\n",
        "\n",
        "from Helper import Modeli\n",
        "\n",
        "from apache_beam.ml.inference.base import RunInference\n",
        "from apache_beam.ml.inference.base import KeyedModelHandler\n",
        "from apache_beam.ml.inference.tensorflow_inference import TFModelHandlerTensor\n",
        "from apache_beam.options.pipeline_options import PipelineOptions\n",
        "\n",
        "model_handler = TFModelHandlerTensor(\"/tmp/model\")\n",
        "\n",
        "trainer = [train[10]]\n",
        "\n",
        "with B.Pipeline() as pipeline:\n",
        "    runner = (\n",
        "        pipeline\n",
        "        | \"Create\" >> B.Create(trainer)\n",
        "        | \"Modeler\" >> RunInference(model_handler)\n",
        "        | \"Perform\" >> B.ParDo(Modeli())\n",
        "        | \"Final\" >> B.Map(print)\n",
        "    )"
      ]
    }
  ],
  "metadata": {
    "colab": {
      "provenance": []
    },
    "kernelspec": {
      "display_name": "Python 3",
      "name": "python3"
    },
    "language_info": {
      "name": "python"
    }
  },
  "nbformat": 4,
  "nbformat_minor": 0
}