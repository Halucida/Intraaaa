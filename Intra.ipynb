{
  "nbformat": 4,
  "nbformat_minor": 0,
  "metadata": {
    "colab": {
      "provenance": [],
      "authorship_tag": "ABX9TyMljCLPQtDULXxjzO3FqW2E"
    },
    "kernelspec": {
      "name": "python3",
      "display_name": "Python 3"
    },
    "language_info": {
      "name": "python"
    }
  },
  "cells": [
    {
      "cell_type": "code",
      "execution_count": 1,
      "metadata": {
        "id": "klSZwUewj9gB"
      },
      "outputs": [],
      "source": [
        "import tensorflow as tf\n",
        "\n",
        "import tensorflow_datasets as tfds\n",
        "\n",
        "tfds.disable_progress_bar()"
      ]
    },
    {
      "cell_type": "code",
      "source": [
        "data = \"imdb_reviews\"\n",
        "\n",
        "(train, testi), info = tfds.load(data, split=[\"train\", \"test\"])"
      ],
      "metadata": {
        "id": "k8myflJAkq6C"
      },
      "execution_count": 2,
      "outputs": []
    },
    {
      "cell_type": "code",
      "source": [
        "info.splits[\"train\"].num_examples"
      ],
      "metadata": {
        "colab": {
          "base_uri": "https://localhost:8080/"
        },
        "id": "yBONimT_ldrs",
        "outputId": "8f0ace16-3a35-4fee-96af-8efa1d0f4a37"
      },
      "execution_count": 3,
      "outputs": [
        {
          "output_type": "execute_result",
          "data": {
            "text/plain": [
              "25000"
            ]
          },
          "metadata": {},
          "execution_count": 3
        }
      ]
    },
    {
      "cell_type": "code",
      "source": [
        "info.splits[\"test\"].num_examples"
      ],
      "metadata": {
        "colab": {
          "base_uri": "https://localhost:8080/"
        },
        "id": "RcOQHoq6l7PC",
        "outputId": "07c8d70e-9d24-4eb2-9f3f-7168f1ccbb46"
      },
      "execution_count": 4,
      "outputs": [
        {
          "output_type": "execute_result",
          "data": {
            "text/plain": [
              "25000"
            ]
          },
          "metadata": {},
          "execution_count": 4
        }
      ]
    },
    {
      "cell_type": "code",
      "source": [
        "from tensorflow.keras import layers, Model\n",
        "\n",
        "x = layers.Embedding()\n",
        "x = layers.GlobalAveragePooling1D()\n",
        "\n",
        "model = Model()"
      ],
      "metadata": {
        "id": "Ikw2JtNOmq-J"
      },
      "execution_count": null,
      "outputs": []
    },
    {
      "cell_type": "code",
      "source": [
        "metrics = \"binary_accuracy\"; loss = \"binary_crossentropy\"\n",
        "\n",
        "model.compile(optimizer=\"adam\", loss=loss, metrics=[metrics])\n",
        "\n",
        "hist = model.fit(train, validation_data=testi)"
      ],
      "metadata": {
        "id": "_56iZGzPmamq"
      },
      "execution_count": null,
      "outputs": []
    }
  ]
}