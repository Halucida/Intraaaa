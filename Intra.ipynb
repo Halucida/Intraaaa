{
  "nbformat": 4,
  "nbformat_minor": 0,
  "metadata": {
    "colab": {
      "provenance": [],
      "authorship_tag": "ABX9TyNLIkH6+0DbFpsm1caKu1/Z"
    },
    "kernelspec": {
      "name": "python3",
      "display_name": "Python 3"
    },
    "language_info": {
      "name": "python"
    }
  },
  "cells": [
    {
      "cell_type": "code",
      "source": [
        "!pip install -q stop_words\n",
        "\n",
        "!wget -q \"https://github.com/Internite/Intra/raw/notebook/Helper.py\"\n",
        "\n",
        "!wget -q \"https://github.com/Internite/Hantu/raw/notebook/Histplot.py\""
      ],
      "metadata": {
        "id": "BupmVd84-WHx"
      },
      "execution_count": null,
      "outputs": []
    },
    {
      "cell_type": "code",
      "execution_count": null,
      "metadata": {
        "id": "klSZwUewj9gB"
      },
      "outputs": [],
      "source": [
        "import tensorflow as tf\n",
        "\n",
        "import tensorflow_datasets as tfds\n",
        "\n",
        "from Helper import stopper\n",
        "\n",
        "tfds.disable_progress_bar()"
      ]
    },
    {
      "cell_type": "code",
      "source": [
        "data = \"imdb_reviews\"\n",
        "\n",
        "(train, testi), info = tfds.load(data, split=[\"train\", \"test\"])"
      ],
      "metadata": {
        "id": "k8myflJAkq6C"
      },
      "execution_count": null,
      "outputs": []
    },
    {
      "cell_type": "code",
      "source": [
        "info.splits[\"train\"].num_examples, info.splits[\"test\"].num_examples"
      ],
      "metadata": {
        "colab": {
          "base_uri": "https://localhost:8080/"
        },
        "id": "yBONimT_ldrs",
        "outputId": "8f0ace16-3a35-4fee-96af-8efa1d0f4a37"
      },
      "execution_count": null,
      "outputs": [
        {
          "output_type": "execute_result",
          "data": {
            "text/plain": [
              "25000"
            ]
          },
          "metadata": {},
          "execution_count": 3
        }
      ]
    },
    {
      "cell_type": "code",
      "source": [
        "from tensorflow.keras import layers, Model\n",
        "\n",
        "x = layers.Embedding()\n",
        "x = layers.Bidirectional(layers.LSTM())\n",
        "x = layers.GlobalAveragePooling1D()\n",
        "x = layers.Dense(10, activation=\"relu\")\n",
        "output = layers.Dense(1, activation=\"sigmoid\")\n",
        "\n",
        "model = Model(outputs=output)"
      ],
      "metadata": {
        "id": "Ikw2JtNOmq-J"
      },
      "execution_count": null,
      "outputs": []
    },
    {
      "cell_type": "code",
      "source": [
        "metrics = \"binary_accuracy\"; loss = \"binary_crossentropy\"\n",
        "\n",
        "model.compile(optimizer=\"adam\", loss=loss, metrics=[metrics])\n",
        "\n",
        "hist = model.fit(train, validation_data=testi)"
      ],
      "metadata": {
        "id": "_56iZGzPmamq"
      },
      "execution_count": null,
      "outputs": []
    },
    {
      "cell_type": "code",
      "source": [
        "from Histplot import Histplot\n",
        "\n",
        "histplot = Histplot(hist)\n",
        "\n",
        "histplot.Trainplot()"
      ],
      "metadata": {
        "id": "P8sHDixrXsoY"
      },
      "execution_count": null,
      "outputs": []
    },
    {
      "cell_type": "code",
      "source": [
        "histplot.Testiplot()"
      ],
      "metadata": {
        "id": "-gD4qufWXwmB"
      },
      "execution_count": null,
      "outputs": []
    },
    {
      "cell_type": "code",
      "source": [
        "!pip install -q tensorflowjs"
      ],
      "metadata": {
        "id": "_P5lwlNxX05r"
      },
      "execution_count": null,
      "outputs": []
    }
  ]
}